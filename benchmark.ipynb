{
 "cells": [
  {
   "cell_type": "code",
   "execution_count": 1,
   "id": "7cea941d",
   "metadata": {},
   "outputs": [
    {
     "data": {
      "text/plain": [
       "'4.13.1.dev14+ga01ec777'"
      ]
     },
     "execution_count": 1,
     "metadata": {},
     "output_type": "execute_result"
    }
   ],
   "source": [
    "import json\n",
    "import time\n",
    "from functools import wraps\n",
    "\n",
    "import geopandas as gpd\n",
    "import numpy as np\n",
    "from geodatasets import get_path\n",
    "\n",
    "from libpysal import __version__\n",
    "from libpysal.graph import Graph\n",
    "\n",
    "__version__"
   ]
  },
  {
   "cell_type": "markdown",
   "id": "9ade8f7b",
   "metadata": {},
   "source": [
    "Timer decorator"
   ]
  },
  {
   "cell_type": "code",
   "execution_count": 2,
   "id": "a56c4e55",
   "metadata": {},
   "outputs": [],
   "source": [
    "def timer(iterations):\n",
    "    \"\"\"Decorator to time function execution.\"\"\"\n",
    "\n",
    "    def decorator(func):\n",
    "        @wraps(func)\n",
    "        def wrapper(*args, **kwargs):\n",
    "            times = []\n",
    "            for _ in range(iterations):\n",
    "                start_time = time.perf_counter()\n",
    "                _ = func(*args, **kwargs)\n",
    "                end_time = time.perf_counter()\n",
    "                times.append(end_time - start_time)\n",
    "            return {'mean': float(np.mean(times)), 'std': float(np.std(times))}\n",
    "\n",
    "        return wrapper\n",
    "    return decorator"
   ]
  },
  {
   "cell_type": "markdown",
   "id": "cbff2730",
   "metadata": {},
   "source": [
    "Test data"
   ]
  },
  {
   "cell_type": "code",
   "execution_count": 3,
   "id": "2b77e5d8",
   "metadata": {},
   "outputs": [],
   "source": [
    "gdf = gpd.read_file(get_path('geoda south'))\n",
    "gdf_name = gdf.set_index(gdf.NAME + \" \" + gdf.STATE_NAME)\n",
    "gdf_points = gdf.set_geometry(gdf.representative_point())\n",
    "gdf_name_points = gdf_name.set_geometry(gdf_name.representative_point())\n",
    "\n",
    "small_int = Graph.build_knn(gdf_points, k=10)\n",
    "large_int = Graph.build_knn(gdf_points, k=500)\n",
    "small_str = Graph.build_knn(gdf_name_points, k=10)\n",
    "large_str = Graph.build_knn(gdf_name_points, k=500)"
   ]
  },
  {
   "cell_type": "markdown",
   "id": "98beeb2f",
   "metadata": {},
   "source": [
    "Timer functions"
   ]
  },
  {
   "cell_type": "code",
   "execution_count": 4,
   "id": "3ffabda2",
   "metadata": {},
   "outputs": [],
   "source": [
    "@timer(10)\n",
    "def queen(gdf, strict=False):\n",
    "    Graph.build_contiguity(gdf, strict=strict)\n",
    "\n",
    "\n",
    "@timer(10)\n",
    "def knn(gdf, k):\n",
    "    Graph.build_knn(gdf, k=k)\n",
    "\n",
    "@timer(5)\n",
    "def kernel(gdf):\n",
    "    Graph.build_kernel(gdf)\n",
    "\n",
    "@timer(10)\n",
    "def assign_self_weight(graph):\n",
    "    graph.assign_self_weight()\n",
    "\n",
    "@timer(1000)\n",
    "def sparse(graph):\n",
    "    _ = graph.sparse\n",
    "\n",
    "@timer(10)\n",
    "def subgraph(graph, ids):\n",
    "    graph.subgraph(ids)"
   ]
  },
  {
   "cell_type": "markdown",
   "id": "ba09f5d0",
   "metadata": {},
   "source": [
    "Run benchmarks"
   ]
  },
  {
   "cell_type": "code",
   "execution_count": 5,
   "id": "7204fa92",
   "metadata": {},
   "outputs": [],
   "source": [
    "results = {'version': __version__}\n",
    "\n",
    "results['queen_int'] = queen(gdf)\n",
    "results['queen_str'] = queen(gdf_name)\n",
    "results['queen_int_strict'] = queen(gdf, strict=True)\n",
    "results['queen_str_strict'] = queen(gdf_name, strict=True)\n",
    "results['knn_10_int'] = knn(gdf_points, k=10)\n",
    "results['knn_10_str'] = knn(gdf_name_points, k=10)\n",
    "results['knn_500_int'] = knn(gdf_points, k=500)\n",
    "results['knn_500_str'] = knn(gdf_name_points, k=500)\n",
    "results['kernel_int'] = kernel(gdf_points)\n",
    "results['kernel_str'] = kernel(gdf_name_points)\n",
    "results['assign_self_weight_small_int'] = assign_self_weight(small_int)\n",
    "results['assign_self_weight_large_int'] = assign_self_weight(large_int)\n",
    "results['assign_self_weight_small_str'] = assign_self_weight(small_str)\n",
    "results['assign_self_weight_large_str'] = assign_self_weight(large_str)\n",
    "results['sparse_small_int'] = sparse(small_int)\n",
    "results['sparse_large_int'] = sparse(large_int)\n",
    "results['sparse_small_str'] = sparse(small_str)\n",
    "results['sparse_large_str'] = sparse(large_str)\n",
    "results['subgraph_small_int'] = subgraph(small_int, gdf.index.to_series().sample(gdf.shape[0] // 5).values)\n",
    "results['subgraph_large_int'] = subgraph(large_int, gdf.index.to_series().sample(gdf.shape[0] // 5).values)\n",
    "results['subgraph_small_str'] = subgraph(small_str, gdf_name.index.to_series().sample(gdf.shape[0] // 5).values)\n",
    "results['subgraph_large_str'] = subgraph(large_str, gdf_name.index.to_series().sample(gdf.shape[0] // 5).values)"
   ]
  },
  {
   "cell_type": "markdown",
   "id": "7da0707d",
   "metadata": {},
   "source": [
    "Save to file"
   ]
  },
  {
   "cell_type": "code",
   "execution_count": 6,
   "id": "68e2986f",
   "metadata": {},
   "outputs": [],
   "source": [
    "with open('bench.json', 'w') as f:\n",
    "    json.dump(results, f, indent=4)"
   ]
  }
 ],
 "metadata": {
  "kernelspec": {
   "display_name": "default",
   "language": "python",
   "name": "python3"
  },
  "language_info": {
   "codemirror_mode": {
    "name": "ipython",
    "version": 3
   },
   "file_extension": ".py",
   "mimetype": "text/x-python",
   "name": "python",
   "nbconvert_exporter": "python",
   "pygments_lexer": "ipython3",
   "version": "3.12.9"
  }
 },
 "nbformat": 4,
 "nbformat_minor": 5
}
